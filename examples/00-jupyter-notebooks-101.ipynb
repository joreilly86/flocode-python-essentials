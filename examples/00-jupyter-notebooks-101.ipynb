{
 "cells": [
  {
   "cell_type": "markdown",
   "metadata": {},
   "source": [
    "# Jupyter Notebooks 101: Complete Beginner's Guide\n",
    "\n",
    "Welcome! This notebook will teach you everything you need to know to get started with Jupyter notebooks.\n",
    "\n",
    "## What is a Jupyter Notebook?\n",
    "\n",
    "A Jupyter notebook is an interactive document that combines:\n",
    "- **Code** that you can run and see results immediately\n",
    "- **Text** with formatting (headings, bold, lists, etc.)\n",
    "- **Outputs** like numbers, tables, and charts\n",
    "\n",
    "Think of it as a digital lab notebook where you can write explanations alongside your calculations."
   ]
  },
  {
   "cell_type": "markdown",
   "metadata": {},
   "source": [
    "## Two Types of Cells\n",
    "\n",
    "Notebooks are made up of **cells**. There are two main types:\n",
    "\n",
    "### 1. Markdown Cells (like this one)\n",
    "Used for text, headings, lists, and documentation. You're reading a markdown cell right now!\n",
    "\n",
    "### 2. Code Cells  \n",
    "Used for Python code. The next cell below is a code cell, you can run it to see what happens."
   ]
  },
  {
   "cell_type": "markdown",
   "metadata": {},
   "source": [
    "## Running Your First Code Cell\n",
    "\n",
    "**How to run a cell:**\n",
    "- Click on the cell below\n",
    "- Press **Shift + Enter** (or click the ▶ play button)\n",
    "- The code will execute and show output below the cell\n",
    "\n",
    "Try it now! 👇"
   ]
  },
  {
   "cell_type": "code",
   "execution_count": null,
   "metadata": {},
   "outputs": [],
   "source": [
    "# This is a code cell - notice the [ ] on the left\n",
    "# Lines starting with # are comments (not executed)\n",
    "\n",
    "print(\"Hello from Jupyter!\")\n",
    "print(\"You just ran your first code cell!\")"
   ]
  },
  {
   "cell_type": "markdown",
   "metadata": {},
   "source": [
    "### What Just Happened?\n",
    "\n",
    "When you ran that cell:\n",
    "1. Python executed the code line by line\n",
    "2. The `print()` function displayed text\n",
    "3. Output appeared below the cell\n",
    "4. A number appeared in the brackets `[1]` showing execution order\n",
    "\n",
    "Now try the next cell:"
   ]
  },
  {
   "cell_type": "code",
   "execution_count": null,
   "metadata": {},
   "outputs": [],
   "source": [
    "# Python can do math! Try running this cell\n",
    "\n",
    "2 + 2"
   ]
  },
  {
   "cell_type": "markdown",
   "metadata": {},
   "source": [
    "Notice that the result (4) appears automatically, you don't always need `print()`. The notebook shows the last value in a cell."
   ]
  },
  {
   "cell_type": "markdown",
   "metadata": {},
   "source": [
    "## Setting Up Your Environment in VS Code\n",
    "\n",
    "Before you can run notebooks, you need to:\n",
    "\n",
    "### 1. Install Required Extensions\n",
    "- **Python** extension by Microsoft\n",
    "- **Jupyter** extension by Microsoft\n",
    "\n",
    "Go to the Extensions panel (Ctrl+Shift+X) and search for these.\n",
    "\n",
    "### 2. Select a Python Interpreter (Kernel)\n",
    "\n",
    "A **kernel** is the Python environment that runs your code. To select one:\n",
    "\n",
    "1. Look at the **top-right corner** of the notebook\n",
    "2. Click where it says \"Select Kernel\"\n",
    "3. Choose \"Python Environments\"\n",
    "4. Select your `.venv` environment (created with `uv`)\n",
    "\n",
    "**Important:** The kernel must match your project's virtual environment so it can find installed packages.\n",
    "\n",
    "### 3. Verify Your Environment\n",
    "\n",
    "Run the cell below to check which Python you're using:"
   ]
  },
  {
   "cell_type": "code",
   "execution_count": null,
   "metadata": {},
   "outputs": [],
   "source": [
    "import sys\n",
    "print(f\"Python version: {sys.version}\")\n",
    "print(f\"Python location: {sys.executable}\")"
   ]
  },
  {
   "cell_type": "markdown",
   "metadata": {},
   "source": [
    "You should see your `.venv` path in the location. If not, reselect your kernel!"
   ]
  },
  {
   "cell_type": "markdown",
   "metadata": {},
   "source": [
    "## Understanding Cell Execution Order\n",
    "\n",
    "**Key concept:** Cells execute in the order you run them, NOT necessarily top to bottom.\n",
    "\n",
    "The number in brackets `[3]` shows execution order. This can trip you up!\n",
    "\n",
    "### Example: Run these cells OUT of order\n",
    "\n",
    "1. First run the cell below (defines a variable)\n",
    "2. Then run the cell after it (uses the variable)"
   ]
  },
  {
   "cell_type": "code",
   "execution_count": null,
   "metadata": {},
   "outputs": [],
   "source": [
    "# Run me FIRST\n",
    "beam_length = 6.0  # meters\n",
    "print(f\"Beam length set to {beam_length} m\")"
   ]
  },
  {
   "cell_type": "code",
   "execution_count": null,
   "metadata": {},
   "outputs": [],
   "source": [
    "# Run me SECOND\n",
    "print(f\"The beam is {beam_length} meters long\")"
   ]
  },
  {
   "cell_type": "markdown",
   "metadata": {},
   "source": [
    "### What if you run cells in the wrong order?\n",
    "\n",
    "Try running the cell above BEFORE running the first one. You'll get an error:\n",
    "```\n",
    "NameError: name 'beam_length' is not defined\n",
    "```\n",
    "\n",
    "**Best practice:** When in doubt, restart the kernel and run all cells from top to bottom:\n",
    "- Click the ⟳ restart button in the toolbar\n",
    "- Or use `Ctrl+Shift+P` → \"Jupyter: Restart Kernel\""
   ]
  },
  {
   "cell_type": "markdown",
   "metadata": {},
   "source": [
    "## Variables Persist Between Cells\n",
    "\n",
    "Once you define a variable in one cell, it's available in all subsequent cells (until you restart the kernel)."
   ]
  },
  {
   "cell_type": "code",
   "execution_count": null,
   "metadata": {},
   "outputs": [],
   "source": [
    "# Define some variables\n",
    "width = 0.3   # meters\n",
    "height = 0.5  # meters"
   ]
  },
  {
   "cell_type": "code",
   "execution_count": null,
   "metadata": {},
   "outputs": [],
   "source": [
    "# Use them in a different cell\n",
    "area = width * height\n",
    "print(f\"Beam cross-section area: {area} m²\")"
   ]
  },
  {
   "cell_type": "markdown",
   "metadata": {},
   "source": [
    "This is powerful! You can break your work into logical steps across multiple cells."
   ]
  },
  {
   "cell_type": "markdown",
   "metadata": {},
   "source": [
    "## Markdown Basics\n",
    "\n",
    "Markdown cells use simple syntax for formatting. Double-click this cell to see the raw markdown, then press `Shift+Enter` to render it.\n",
    "\n",
    "### Headings\n",
    "```markdown\n",
    "# Heading 1\n",
    "## Heading 2  \n",
    "### Heading 3\n",
    "```\n",
    "\n",
    "### Text Formatting\n",
    "- **Bold text**: `**bold**`\n",
    "- *Italic text*: `*italic*`\n",
    "- `Code`: `` `code` ``\n",
    "\n",
    "### Lists\n",
    "\n",
    "**Bullet list:**\n",
    "- Item 1\n",
    "- Item 2\n",
    "  - Sub-item\n",
    "\n",
    "**Numbered list:**\n",
    "1. First step\n",
    "2. Second step\n",
    "3. Third step\n",
    "\n",
    "### Code Blocks\n",
    "\n",
    "```python\n",
    "def calculate_area(b, h):\n",
    "    return b * h\n",
    "```\n",
    "\n",
    "### Math Equations (LaTeX)\n",
    "\n",
    "Inline: $A = b \\times h$\n",
    "\n",
    "Display: \n",
    "$$I = \\frac{b h^3}{12}$$"
   ]
  },
  {
   "cell_type": "markdown",
   "metadata": {},
   "source": [
    "## Essential Keyboard Shortcuts\n",
    "\n",
    "### When a cell is selected (Command Mode):\n",
    "| Action | Shortcut |\n",
    "|--------|----------|\n",
    "| Run cell and advance | `Shift + Enter` |\n",
    "| Run cell in place | `Ctrl + Enter` |\n",
    "| Insert cell above | `A` |\n",
    "| Insert cell below | `B` |\n",
    "| Delete cell | `D D` (press D twice) |\n",
    "| Convert to code cell | `Y` |\n",
    "| Convert to markdown cell | `M` |\n",
    "| Save notebook | `Ctrl + S` |\n",
    "\n",
    "### When editing a cell (Edit Mode):\n",
    "- `Esc` - Exit edit mode (back to command mode)\n",
    "- `Tab` - Code completion / indent\n",
    "- `Shift + Tab` - Show function help"
   ]
  },
  {
   "cell_type": "markdown",
   "metadata": {},
   "source": [
    "## Practice Exercise\n",
    "\n",
    "Try this yourself:\n",
    "\n",
    "1. Press `B` to create a new cell below this one\n",
    "2. Press `Y` to make it a code cell\n",
    "3. Type: `print(\"I created this cell!\")`\n",
    "4. Press `Shift + Enter` to run it\n",
    "5. Press `A` to create a cell above\n",
    "6. Press `M` to make it markdown\n",
    "7. Type: `## My First Heading`\n",
    "8. Press `Shift + Enter`\n",
    "\n",
    "Go ahead, try it! 👇"
   ]
  },
  {
   "cell_type": "markdown",
   "metadata": {},
   "source": [
    "## Working with Libraries\n",
    "\n",
    "One of Python's strengths is its ecosystem of libraries. You import them at the top of your notebook."
   ]
  },
  {
   "cell_type": "code",
   "execution_count": null,
   "metadata": {},
   "outputs": [],
   "source": [
    "# Import commonly used libraries\n",
    "import math\n",
    "import numpy as np\n",
    "import matplotlib.pyplot as plt\n",
    "\n",
    "print(\"Libraries imported successfully!\")"
   ]
  },
  {
   "cell_type": "markdown",
   "metadata": {},
   "source": [
    "**Note:** If you get a `ModuleNotFoundError`, the library isn't installed. Install it using:\n",
    "```bash\n",
    "uv pip install numpy matplotlib\n",
    "```"
   ]
  },
  {
   "cell_type": "markdown",
   "metadata": {},
   "source": [
    "## Creating a Simple Plot"
   ]
  },
  {
   "cell_type": "code",
   "execution_count": null,
   "metadata": {},
   "outputs": [],
   "source": [
    "# Create some data\n",
    "x = [0, 1, 2, 3, 4, 5]\n",
    "y = [0, 1, 4, 9, 16, 25]\n",
    "\n",
    "# Create the plot\n",
    "plt.figure(figsize=(8, 4))\n",
    "plt.plot(x, y, marker='o', linewidth=2)\n",
    "plt.xlabel('Distance (m)')\n",
    "plt.ylabel('Load (kN)')\n",
    "plt.title('Simple Load Diagram')\n",
    "plt.grid(True, alpha=0.3)\n",
    "plt.show()"
   ]
  },
  {
   "cell_type": "markdown",
   "metadata": {},
   "source": [
    "The plot appears right in the notebook! This is incredibly useful for engineering calculations."
   ]
  },
  {
   "cell_type": "markdown",
   "metadata": {},
   "source": [
    "## Free Online Alternatives\n",
    "\n",
    "Don't want to install anything locally? Try these free cloud-based options:\n",
    "\n",
    "### Google Colab\n",
    "- **Website:** https://colab.research.google.com/\n",
    "- **Pros:** Free GPU, no installation, saves to Google Drive\n",
    "- **Best for:** Quick experiments, learning, sharing with collaborators\n",
    "\n",
    "### Kaggle Notebooks  \n",
    "- **Website:** https://www.kaggle.com/code\n",
    "- **Pros:** Free, built-in datasets, community\n",
    "- **Best for:** Data analysis, competitions, learning from others\n",
    "\n",
    "### Other Modern Tools\n",
    "\n",
    "**Marimo** (https://marimo.io/)\n",
    "- Modern reactive notebook alternative\n",
    "- Cells automatically update when dependencies change\n",
    "- Export to Python scripts or interactive apps\n",
    "\n",
    "**Quarto** (https://quarto.org/)\n",
    "- Publish notebooks as websites, PDFs, presentations\n",
    "- Supports Python, R, Julia, and Observable\n",
    "- Great for technical reports and documentation"
   ]
  },
  {
   "cell_type": "markdown",
   "metadata": {},
   "source": [
    "## Common Beginner Mistakes\n",
    "\n",
    "### 1. Forgetting to run cells in order\n",
    "❌ Bad: Running cells randomly  \n",
    "✅ Good: Run from top to bottom, or use \"Run All\"\n",
    "\n",
    "### 2. Not restarting the kernel when things break\n",
    "❌ Bad: Keep running cells with old variables  \n",
    "✅ Good: Restart kernel → Run All → Start fresh\n",
    "\n",
    "### 3. Forgetting to select the right kernel\n",
    "❌ Bad: Using system Python, can't find packages  \n",
    "✅ Good: Select your project's `.venv` kernel\n",
    "\n",
    "### 4. Not saving frequently\n",
    "❌ Bad: Lose hours of work  \n",
    "✅ Good: `Ctrl+S` regularly (or enable autosave)"
   ]
  },
  {
   "cell_type": "markdown",
   "metadata": {},
   "source": [
    "## Next Steps\n",
    "\n",
    "Now that you understand the basics:\n",
    "\n",
    "1. ✅ You know what cells are (code and markdown)\n",
    "2. ✅ You can run cells and see output\n",
    "3. ✅ You understand execution order matters\n",
    "4. ✅ You can format text with markdown\n",
    "5. ✅ You know how to select a kernel in VS Code\n",
    "\n",
    "**Ready for more?** Check out:\n",
    "- `engineering-calculations.ipynb` - Real engineering examples\n",
    "- [04-jupyter-notebooks-101.md](../04-jupyter-notebooks-101.md) - Detailed guide with magic commands and tips\n",
    "\n",
    "Keep practicing! Create a new notebook and try some calculations on your own."
   ]
  },
  {
   "cell_type": "markdown",
   "metadata": {},
   "source": [
    "## Quick Reference Card\n",
    "\n",
    "```\n",
    "📝 CELL TYPES\n",
    "Code (Y)     → Runs Python\n",
    "Markdown (M) → Text & formatting\n",
    "\n",
    "⌨️ SHORTCUTS  \n",
    "Shift+Enter → Run cell, advance\n",
    "Ctrl+Enter  → Run cell, stay\n",
    "A / B       → Insert above/below\n",
    "D D         → Delete cell\n",
    "M / Y       → Markdown/Code\n",
    "Ctrl+S      → Save\n",
    "\n",
    "🔧 KERNEL\n",
    "Top-right   → Select kernel\n",
    "⟳ button    → Restart kernel\n",
    "▶▶ button   → Run all cells\n",
    "\n",
    "💡 MARKDOWN\n",
    "# Heading\n",
    "**bold** *italic* `code`\n",
    "- bullet list\n",
    "1. numbered list\n",
    "$equation$\n",
    "```\n",
    "\n",
    "---\n",
    "\n",
    "**Congratulations!** You now know the fundamentals of Jupyter notebooks. \n",
    "\n",
    "Nice one, now you can carry on with the rest of the examples. \n",
    "\n",
    "James 🌊"
   ]
  }
 ],
 "metadata": {
  "kernelspec": {
   "display_name": ".venv",
   "language": "python",
   "name": "python3"
  },
  "language_info": {
   "name": "python",
   "version": "3.12.0"
  }
 },
 "nbformat": 4,
 "nbformat_minor": 2
}
