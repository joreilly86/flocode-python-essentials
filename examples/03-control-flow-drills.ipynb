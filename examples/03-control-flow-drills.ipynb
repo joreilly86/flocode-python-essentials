{
 "cells": [
  {
   "cell_type": "markdown",
   "metadata": {},
   "source": [
    "# 03 | Control Flow Drills\n",
    "\n",
    "Practice if/elif/else, loops, and exception handling with engineering examples."
   ]
  },
  {
   "cell_type": "markdown",
   "metadata": {},
   "source": [
    "## Exercise 1: Conditional Beam Check\n",
    "\n",
    "Check if a beam meets deflection criteria."
   ]
  },
  {
   "cell_type": "code",
   "execution_count": 1,
   "metadata": {},
   "outputs": [
    {
     "name": "stdout",
     "output_type": "stream",
     "text": [
      "✓ Deflection OK: 15.2 mm < 24.0 mm\n"
     ]
    }
   ],
   "source": [
    "deflection_mm = 15.2\n",
    "span_m = 6.0\n",
    "limit_ratio = 250  # L/250\n",
    "\n",
    "# Calculate allowable deflection\n",
    "allowable_deflection_mm = (span_m * 1000) / limit_ratio\n",
    "\n",
    "if deflection_mm < allowable_deflection_mm:\n",
    "    print(f\"✓ Deflection OK: {deflection_mm:.1f} mm < {allowable_deflection_mm:.1f} mm\")\n",
    "elif deflection_mm == allowable_deflection_mm:\n",
    "    print(f\"⚠ Deflection at limit: {deflection_mm:.1f} mm\")\n",
    "else:\n",
    "    print(f\"✗ Deflection exceeded: {deflection_mm:.1f} mm > {allowable_deflection_mm:.1f} mm\")"
   ]
  },
  {
   "cell_type": "markdown",
   "metadata": {},
   "source": [
    "## Exercise 2: For Loop - Process Multiple Loads\n",
    "\n",
    "Iterate through beam loads and flag any that exceed capacity."
   ]
  },
  {
   "cell_type": "code",
   "execution_count": 2,
   "metadata": {},
   "outputs": [
    {
     "name": "stdout",
     "output_type": "stream",
     "text": [
      "✓ Beam 1: 45 kN [OK]\n",
      "✓ Beam 2: 60 kN [OK]\n",
      "✓ Beam 3: 38 kN [OK]\n",
      "✗ Beam 4: 72 kN [EXCEEDED]\n",
      "✓ Beam 5: 55 kN [OK]\n",
      "✓ Beam 6: 48 kN [OK]\n"
     ]
    }
   ],
   "source": [
    "beam_loads_kn = [45, 60, 38, 72, 55, 48]\n",
    "capacity_kn = 65\n",
    "\n",
    "for i, load in enumerate(beam_loads_kn, start=1):\n",
    "    status = \"OK\" if load <= capacity_kn else \"EXCEEDED\"\n",
    "    marker = \"✓\" if load <= capacity_kn else \"✗\"\n",
    "    print(f\"{marker} Beam {i}: {load} kN [{status}]\")"
   ]
  },
  {
   "cell_type": "markdown",
   "metadata": {},
   "source": [
    "## Exercise 3: While Loop - Iterative Design\n",
    "\n",
    "Iterate to find minimum beam depth for a given moment."
   ]
  },
  {
   "cell_type": "code",
   "execution_count": 3,
   "metadata": {},
   "outputs": [
    {
     "name": "stdout",
     "output_type": "stream",
     "text": [
      "✓ Solution found after 3 iterations\n",
      "Required depth: 400 mm\n",
      "Moment capacity: 133.3 kN·m\n"
     ]
    }
   ],
   "source": [
    "required_moment_kn_m = 120\n",
    "width_mm = 200\n",
    "concrete_strength_mpa = 25\n",
    "\n",
    "# Start with minimum depth\n",
    "depth_mm = 300\n",
    "increment_mm = 50\n",
    "max_iterations = 20\n",
    "iterations = 0\n",
    "\n",
    "# Simplified moment capacity formula\n",
    "while iterations < max_iterations:\n",
    "    # Moment capacity (simplified)\n",
    "    moment_capacity_kn_m = (width_mm * depth_mm**2 * concrete_strength_mpa) / (6 * 1e6)\n",
    "    \n",
    "    if moment_capacity_kn_m >= required_moment_kn_m:\n",
    "        print(f\"✓ Solution found after {iterations + 1} iterations\")\n",
    "        print(f\"Required depth: {depth_mm} mm\")\n",
    "        print(f\"Moment capacity: {moment_capacity_kn_m:.1f} kN·m\")\n",
    "        break\n",
    "    \n",
    "    depth_mm += increment_mm\n",
    "    iterations += 1\n",
    "else:\n",
    "    print(\"⚠ Maximum iterations reached without finding solution\")"
   ]
  },
  {
   "cell_type": "markdown",
   "metadata": {},
   "source": [
    "## Exercise 4: Break and Continue\n",
    "\n",
    "Process load data, skipping invalid values and stopping at critical threshold."
   ]
  },
  {
   "cell_type": "code",
   "execution_count": 4,
   "metadata": {},
   "outputs": [
    {
     "name": "stdout",
     "output_type": "stream",
     "text": [
      "✓ Processed: 12.5 kN\n",
      "  Skipping invalid reading\n",
      "✓ Processed: 15.3 kN\n",
      "✓ Processed: 22.1 kN\n",
      "✓ Processed: 18.7 kN\n",
      "  Skipping invalid reading\n",
      "✗ Critical threshold exceeded at 35.2 kN - stopping analysis\n",
      "\n",
      "Valid loads collected: [12.5, 15.3, 22.1, 18.7]\n"
     ]
    }
   ],
   "source": [
    "load_readings = [12.5, None, 15.3, 22.1, 18.7, None, 35.2, 8.9]\n",
    "critical_threshold = 30.0\n",
    "\n",
    "valid_loads = []\n",
    "\n",
    "for reading in load_readings:\n",
    "    if reading is None:\n",
    "        print(\"  Skipping invalid reading\")\n",
    "        continue\n",
    "    \n",
    "    if reading > critical_threshold:\n",
    "        print(f\"✗ Critical threshold exceeded at {reading} kN - stopping analysis\")\n",
    "        break\n",
    "    \n",
    "    valid_loads.append(reading)\n",
    "    print(f\"✓ Processed: {reading} kN\")\n",
    "\n",
    "print(f\"\\nValid loads collected: {valid_loads}\")"
   ]
  },
  {
   "cell_type": "markdown",
   "metadata": {},
   "source": [
    "## Exercise 5: Exception Handling\n",
    "\n",
    "Calculate utilization ratio with error handling for zero capacity."
   ]
  },
  {
   "cell_type": "code",
   "execution_count": 5,
   "metadata": {},
   "outputs": [
    {
     "name": "stdout",
     "output_type": "stream",
     "text": [
      "Normal case: 0.75\n",
      "Error: Capacity cannot be zero\n",
      "Zero capacity: inf\n",
      "Error: Invalid input types\n",
      "Invalid type: None\n"
     ]
    }
   ],
   "source": [
    "def calculate_utilization(demand, capacity):\n",
    "    \"\"\"Calculate utilization ratio with error handling.\"\"\"\n",
    "    try:\n",
    "        ratio = demand / capacity\n",
    "        return ratio\n",
    "    except ZeroDivisionError:\n",
    "        print(\"Error: Capacity cannot be zero\")\n",
    "        return float('inf')\n",
    "    except TypeError:\n",
    "        print(\"Error: Invalid input types\")\n",
    "        return None\n",
    "\n",
    "# Test cases\n",
    "print(f\"Normal case: {calculate_utilization(45, 60):.2f}\")\n",
    "print(f\"Zero capacity: {calculate_utilization(45, 0)}\")\n",
    "print(f\"Invalid type: {calculate_utilization('45', 60)}\")"
   ]
  },
  {
   "cell_type": "markdown",
   "metadata": {},
   "source": [
    "## Exercise 6: Nested Loops - Load Combinations\n",
    "\n",
    "Generate all load combinations from multiple load cases."
   ]
  },
  {
   "cell_type": "code",
   "execution_count": 6,
   "metadata": {},
   "outputs": [
    {
     "name": "stdout",
     "output_type": "stream",
     "text": [
      "1.2×50 + 1.6×30 = 108.0 kN\n",
      "1.2×50 + 1.6×40 = 124.0 kN\n",
      "1.2×60 + 1.6×30 = 120.0 kN\n",
      "1.2×60 + 1.6×40 = 136.0 kN\n",
      "1.2×70 + 1.6×30 = 132.0 kN\n",
      "1.2×70 + 1.6×40 = 148.0 kN\n",
      "\n",
      "Governing: D=70, L=40, Total=148.0 kN\n"
     ]
    }
   ],
   "source": [
    "dead_loads = [50, 60, 70]  # kN\n",
    "live_loads = [30, 40]  # kN\n",
    "\n",
    "combinations = []\n",
    "\n",
    "for dead in dead_loads:\n",
    "    for live in live_loads:\n",
    "        # LRFD combination: 1.2D + 1.6L\n",
    "        factored = 1.2 * dead + 1.6 * live\n",
    "        combinations.append({\n",
    "            \"dead\": dead,\n",
    "            \"live\": live,\n",
    "            \"factored\": factored\n",
    "        })\n",
    "        print(f\"1.2×{dead} + 1.6×{live} = {factored:.1f} kN\")\n",
    "\n",
    "# Find governing combination\n",
    "governing = max(combinations, key=lambda x: x['factored'])\n",
    "print(f\"\\nGoverning: D={governing['dead']}, L={governing['live']}, Total={governing['factored']:.1f} kN\")"
   ]
  },
  {
   "cell_type": "markdown",
   "metadata": {},
   "source": [
    "## Challenge: File Reading with Error Handling\n",
    "\n",
    "Attempt to read a file with proper exception handling."
   ]
  },
  {
   "cell_type": "code",
   "execution_count": 7,
   "metadata": {},
   "outputs": [
    {
     "name": "stdout",
     "output_type": "stream",
     "text": [
      "⚠ File not found: loads.csv\n",
      "File operation completed\n"
     ]
    }
   ],
   "source": [
    "from pathlib import Path\n",
    "\n",
    "def read_load_data(filepath):\n",
    "    \"\"\"Read load data from file with error handling.\"\"\"\n",
    "    try:\n",
    "        path = Path(filepath)\n",
    "        with path.open('r') as f:\n",
    "            contents = f.read()\n",
    "            return contents\n",
    "    except FileNotFoundError:\n",
    "        print(f\"⚠ File not found: {filepath}\")\n",
    "        return None\n",
    "    except PermissionError:\n",
    "        print(f\"⚠ Permission denied: {filepath}\")\n",
    "        return None\n",
    "    else:\n",
    "        print(f\"✓ File loaded successfully\")\n",
    "    finally:\n",
    "        print(\"File operation completed\")\n",
    "\n",
    "# Test with non-existent file\n",
    "data = read_load_data(\"loads.csv\")"
   ]
  },
  {
   "cell_type": "markdown",
   "metadata": {},
   "source": [
    "## Key Takeaways\n",
    "\n",
    "- Use `if/elif/else` for design checks and classifications\n",
    "- `for` loops process collections of beams, loads, or materials\n",
    "- `while` loops handle iterative design or convergence\n",
    "- `break` and `continue` control loop flow\n",
    "- `try/except` handles predictable failures gracefully\n",
    "- Always include exit conditions in `while` loops"
   ]
  }
 ],
 "metadata": {
  "kernelspec": {
   "display_name": ".venv (3.12.3)",
   "language": "python",
   "name": "python3"
  },
  "language_info": {
   "codemirror_mode": {
    "name": "ipython",
    "version": 3
   },
   "file_extension": ".py",
   "mimetype": "text/x-python",
   "name": "python",
   "nbconvert_exporter": "python",
   "pygments_lexer": "ipython3",
   "version": "3.12.3"
  }
 },
 "nbformat": 4,
 "nbformat_minor": 4
}
