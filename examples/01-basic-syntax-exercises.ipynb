{
 "cells": [
  {
   "cell_type": "markdown",
   "metadata": {},
   "source": [
    "# 01 | Basic Syntax Exercises\n",
    "\n",
    "Practice the fundamentals from Module 05. Work through each exercise, run the cells, and experiment with the code."
   ]
  },
  {
   "cell_type": "markdown",
   "metadata": {},
   "source": [
    "## Exercise 1: Variables and Data Types\n",
    "\n",
    "Define variables for a simple beam calculation:\n",
    "- Span length (meters)\n",
    "- Load (kN/m)\n",
    "- Beam is serviceable (boolean)"
   ]
  },
  {
   "cell_type": "code",
   "execution_count": 2,
   "metadata": {},
   "outputs": [
    {
     "name": "stdout",
     "output_type": "stream",
     "text": [
      "Span: 6.0 m\n",
      "Load: 15.5 kN/m\n",
      "Serviceable: True\n"
     ]
    }
   ],
   "source": [
    "# Your code here\n",
    "span_m = 6.0\n",
    "load_kn_m = 15.5\n",
    "is_serviceable = True\n",
    "\n",
    "print(f\"Span: {span_m} m\")\n",
    "print(f\"Load: {load_kn_m} kN/m\")\n",
    "print(f\"Serviceable: {is_serviceable}\")"
   ]
  },
  {
   "cell_type": "markdown",
   "metadata": {},
   "source": [
    "## Exercise 2: Arithmetic Operations\n",
    "\n",
    "Calculate the total load on the beam using the formula:\n",
    "```\n",
    "Total Load = Load per meter × Span\n",
    "```"
   ]
  },
  {
   "cell_type": "code",
   "execution_count": 3,
   "metadata": {},
   "outputs": [
    {
     "name": "stdout",
     "output_type": "stream",
     "text": [
      "Total load: 93.0 kN\n"
     ]
    }
   ],
   "source": [
    "# Your code here\n",
    "total_load_kn = load_kn_m * span_m\n",
    "print(f\"Total load: {total_load_kn} kN\")"
   ]
  },
  {
   "cell_type": "markdown",
   "metadata": {},
   "source": [
    "## Exercise 3: Order of Operations\n",
    "\n",
    "Calculate the maximum moment for a uniformly distributed load:\n",
    "```\n",
    "M_max = (w × L²) / 8\n",
    "```\n",
    "Where w is load per meter and L is span."
   ]
  },
  {
   "cell_type": "code",
   "execution_count": 4,
   "metadata": {},
   "outputs": [
    {
     "name": "stdout",
     "output_type": "stream",
     "text": [
      "Maximum moment: 69.75 kN·m\n"
     ]
    }
   ],
   "source": [
    "# Your code here\n",
    "max_moment_kn_m = (load_kn_m * span_m ** 2) / 8\n",
    "print(f\"Maximum moment: {max_moment_kn_m:.2f} kN·m\")"
   ]
  },
  {
   "cell_type": "markdown",
   "metadata": {},
   "source": [
    "## Exercise 4: String Formatting\n",
    "\n",
    "Create a formatted report string that describes the beam analysis."
   ]
  },
  {
   "cell_type": "code",
   "execution_count": 5,
   "metadata": {},
   "outputs": [
    {
     "name": "stdout",
     "output_type": "stream",
     "text": [
      "\n",
      "BEAM ANALYSIS SUMMARY\n",
      "========================================\n",
      "Span Length:    6.0 m\n",
      "Applied Load:   15.5 kN/m\n",
      "Total Load:     93.0 kN\n",
      "Max Moment:     69.75 kN·m\n",
      "Status:         Serviceable\n",
      "\n"
     ]
    }
   ],
   "source": [
    "# Your code here\n",
    "report = f\"\"\"\n",
    "BEAM ANALYSIS SUMMARY\n",
    "{'=' * 40}\n",
    "Span Length:    {span_m:.1f} m\n",
    "Applied Load:   {load_kn_m:.1f} kN/m\n",
    "Total Load:     {total_load_kn:.1f} kN\n",
    "Max Moment:     {max_moment_kn_m:.2f} kN·m\n",
    "Status:         {'Serviceable' if is_serviceable else 'Not Serviceable'}\n",
    "\"\"\"\n",
    "\n",
    "print(report)"
   ]
  },
  {
   "cell_type": "markdown",
   "metadata": {},
   "source": [
    "## Challenge: Material Stress Calculation\n",
    "\n",
    "Given:\n",
    "- Applied force: 1200 kN\n",
    "- Cross-sectional area: 0.05 m²\n",
    "\n",
    "Calculate stress (σ = F / A) in MPa (remember: 1 kN/m² = 0.001 MPa)"
   ]
  },
  {
   "cell_type": "code",
   "execution_count": 6,
   "metadata": {},
   "outputs": [
    {
     "name": "stdout",
     "output_type": "stream",
     "text": [
      "Stress: 24.00 MPa\n",
      "Stress: 24000.00 kN/m²\n"
     ]
    }
   ],
   "source": [
    "# Your code here\n",
    "force_kn = 1200\n",
    "area_m2 = 0.05\n",
    "\n",
    "stress_kn_m2 = force_kn / area_m2\n",
    "stress_mpa = stress_kn_m2  # 1 kN/m² = 1 kPa = 0.001 MPa\n",
    "stress_mpa = stress_kn_m2 * 0.001  # Correction\n",
    "\n",
    "print(f\"Stress: {stress_mpa:.2f} MPa\")\n",
    "print(f\"Stress: {stress_kn_m2:.2f} kN/m²\")"
   ]
  },
  {
   "cell_type": "markdown",
   "metadata": {},
   "source": [
    "## Key Takeaways\n",
    "\n",
    "- Variables store values and make calculations readable\n",
    "- Operator precedence matters (use parentheses when in doubt)\n",
    "- f-strings make output formatting clean and professional\n",
    "- Units matter, always label your variables clearly"
   ]
  }
 ],
 "metadata": {
  "kernelspec": {
   "display_name": ".venv (3.12.3)",
   "language": "python",
   "name": "python3"
  },
  "language_info": {
   "codemirror_mode": {
    "name": "ipython",
    "version": 3
   },
   "file_extension": ".py",
   "mimetype": "text/x-python",
   "name": "python",
   "nbconvert_exporter": "python",
   "pygments_lexer": "ipython3",
   "version": "3.12.3"
  }
 },
 "nbformat": 4,
 "nbformat_minor": 4
}
