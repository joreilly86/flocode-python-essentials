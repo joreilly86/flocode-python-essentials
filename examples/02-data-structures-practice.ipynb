{
 "cells": [
  {
   "cell_type": "markdown",
   "metadata": {},
   "source": [
    "# 02 | Data Structures Practice\n",
    "\n",
    "Work with lists, dictionaries, tuples, and sets to model engineering data."
   ]
  },
  {
   "cell_type": "markdown",
   "metadata": {},
   "source": [
    "## Exercise 1: Lists of Beam Lengths\n",
    "\n",
    "Create a list of beam spans and calculate statistics."
   ]
  },
  {
   "cell_type": "code",
   "execution_count": 1,
   "metadata": {},
   "outputs": [
    {
     "name": "stdout",
     "output_type": "stream",
     "text": [
      "Minimum span: 4.8 m\n",
      "Maximum span: 7.1 m\n",
      "Average span: 5.88 m\n"
     ]
    }
   ],
   "source": [
    "# Beam spans in meters\n",
    "beam_spans = [5.2, 6.7, 4.8, 7.1, 6.0, 5.5]\n",
    "\n",
    "# Calculate min, max, average\n",
    "min_span = min(beam_spans)\n",
    "max_span = max(beam_spans)\n",
    "avg_span = sum(beam_spans) / len(beam_spans)\n",
    "\n",
    "print(f\"Minimum span: {min_span} m\")\n",
    "print(f\"Maximum span: {max_span} m\")\n",
    "print(f\"Average span: {avg_span:.2f} m\")"
   ]
  },
  {
   "cell_type": "markdown",
   "metadata": {},
   "source": [
    "## Exercise 2: List Comprehension\n",
    "\n",
    "Filter beams that exceed a 6m span limit."
   ]
  },
  {
   "cell_type": "code",
   "execution_count": 2,
   "metadata": {},
   "outputs": [
    {
     "name": "stdout",
     "output_type": "stream",
     "text": [
      "Beams exceeding 6.0 m: [6.7, 7.1]\n",
      "Count: 2\n"
     ]
    }
   ],
   "source": [
    "# Your code here\n",
    "span_limit = 6.0\n",
    "long_beams = [span for span in beam_spans if span > span_limit]\n",
    "\n",
    "print(f\"Beams exceeding {span_limit} m: {long_beams}\")\n",
    "print(f\"Count: {len(long_beams)}\")"
   ]
  },
  {
   "cell_type": "markdown",
   "metadata": {},
   "source": [
    "## Exercise 3: Dictionary for Beam Properties\n",
    "\n",
    "Model a steel beam with all its properties."
   ]
  },
  {
   "cell_type": "code",
   "execution_count": 3,
   "metadata": {},
   "outputs": [
    {
     "name": "stdout",
     "output_type": "stream",
     "text": [
      "Beam B1\n",
      "Section: W360x45\n",
      "Length: 8.0 m\n",
      "Load: 12.5 kN/m\n"
     ]
    }
   ],
   "source": [
    "beam = {\n",
    "    \"id\": \"B1\",\n",
    "    \"material\": \"Steel\",\n",
    "    \"section\": \"W360x45\",\n",
    "    \"length_m\": 8.0,\n",
    "    \"load_kn_m\": 12.5,\n",
    "    \"support_type\": \"Simply Supported\"\n",
    "}\n",
    "\n",
    "# Access properties\n",
    "print(f\"Beam {beam['id']}\")\n",
    "print(f\"Section: {beam['section']}\")\n",
    "print(f\"Length: {beam['length_m']} m\")\n",
    "print(f\"Load: {beam['load_kn_m']} kN/m\")"
   ]
  },
  {
   "cell_type": "markdown",
   "metadata": {},
   "source": [
    "## Exercise 4: List of Dictionaries\n",
    "\n",
    "Create a project with multiple beams."
   ]
  },
  {
   "cell_type": "code",
   "execution_count": 4,
   "metadata": {},
   "outputs": [
    {
     "name": "stdout",
     "output_type": "stream",
     "text": [
      "B1: Total load = 90.0 kN\n",
      "B2: Total load = 135.0 kN\n",
      "B3: Total load = 66.0 kN\n"
     ]
    }
   ],
   "source": [
    "project_beams = [\n",
    "    {\"id\": \"B1\", \"length_m\": 6.0, \"load_kn_m\": 15.0},\n",
    "    {\"id\": \"B2\", \"length_m\": 7.5, \"load_kn_m\": 18.0},\n",
    "    {\"id\": \"B3\", \"length_m\": 5.5, \"load_kn_m\": 12.0},\n",
    "]\n",
    "\n",
    "# Calculate total load for each beam\n",
    "for beam in project_beams:\n",
    "    total_load = beam[\"length_m\"] * beam[\"load_kn_m\"]\n",
    "    print(f\"{beam['id']}: Total load = {total_load:.1f} kN\")"
   ]
  },
  {
   "cell_type": "markdown",
   "metadata": {},
   "source": [
    "## Exercise 5: Sets for Material Lists\n",
    "\n",
    "Track unique materials used across different beams."
   ]
  },
  {
   "cell_type": "code",
   "execution_count": 5,
   "metadata": {},
   "outputs": [
    {
     "name": "stdout",
     "output_type": "stream",
     "text": [
      "All materials: {'Bolts', 'Steel', 'Timber', 'Rebar', 'Concrete'}\n",
      "Common materials: {'Steel'}\n"
     ]
    }
   ],
   "source": [
    "# Materials from different beam specifications\n",
    "beam_1_materials = {\"Steel\", \"Concrete\", \"Rebar\"}\n",
    "beam_2_materials = {\"Steel\", \"Timber\", \"Bolts\"}\n",
    "\n",
    "# All unique materials\n",
    "all_materials = beam_1_materials | beam_2_materials  # Union\n",
    "common_materials = beam_1_materials & beam_2_materials  # Intersection\n",
    "\n",
    "print(f\"All materials: {all_materials}\")\n",
    "print(f\"Common materials: {common_materials}\")"
   ]
  },
  {
   "cell_type": "markdown",
   "metadata": {},
   "source": [
    "## Exercise 6: Tuples for Fixed Records\n",
    "\n",
    "Use tuples to represent material properties that shouldn't change."
   ]
  },
  {
   "cell_type": "code",
   "execution_count": 6,
   "metadata": {},
   "outputs": [
    {
     "name": "stdout",
     "output_type": "stream",
     "text": [
      "Steel: density = 7850 kg/m³, E = 200 GPa\n"
     ]
    }
   ],
   "source": [
    "# Material properties: (name, density_kg_m3, elastic_modulus_gpa)\n",
    "steel = (\"Steel\", 7850, 200)\n",
    "concrete = (\"Concrete\", 2400, 30)\n",
    "timber = (\"Timber\", 600, 12)\n",
    "\n",
    "# Unpack values\n",
    "name, density, modulus = steel\n",
    "print(f\"{name}: density = {density} kg/m³, E = {modulus} GPa\")"
   ]
  },
  {
   "cell_type": "markdown",
   "metadata": {},
   "source": "## Challenge: Load Factors Dictionary\n\nCreate a dictionary to store and apply load factors (values are illustrative)."
  },
  {
   "cell_type": "code",
   "execution_count": null,
   "metadata": {},
   "outputs": [],
   "source": "# Your code here\nload_factors = {\n    \"Dead\": 1.2,\n    \"Live\": 1.5,\n    \"Wind\": 1.0,\n    \"Seismic\": 1.0\n}\n\n# Base loads (kN)\ndead_load = 100\nlive_load = 50\n\n# Apply factors to create a combination (example only)\nfactored_combination = (dead_load * load_factors[\"Dead\"] + \n                        live_load * load_factors[\"Live\"])\n\nprint(f\"Example factored combination: {factored_combination:.1f} kN\")"
  },
  {
   "cell_type": "markdown",
   "metadata": {},
   "source": [
    "## Key Takeaways\n",
    "\n",
    "- Lists are perfect for ordered collections (beam spans, loads)\n",
    "- Dictionaries model complex objects (beam properties)\n",
    "- List of dictionaries is a powerful pattern for projects\n",
    "- Sets handle uniqueness and membership efficiently\n",
    "- Tuples protect fixed data from accidental modification"
   ]
  }
 ],
 "metadata": {
  "kernelspec": {
   "display_name": ".venv (3.12.3)",
   "language": "python",
   "name": "python3"
  },
  "language_info": {
   "codemirror_mode": {
    "name": "ipython",
    "version": 3
   },
   "file_extension": ".py",
   "mimetype": "text/x-python",
   "name": "python",
   "nbconvert_exporter": "python",
   "pygments_lexer": "ipython3",
   "version": "3.12.3"
  }
 },
 "nbformat": 4,
 "nbformat_minor": 4
}