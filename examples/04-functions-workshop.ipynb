{
 "cells": [
  {
   "cell_type": "markdown",
   "metadata": {},
   "source": [
    "# 04 | Functions Workshop\n",
    "\n",
    "Build reusable engineering calculation functions with proper documentation and type hints."
   ]
  },
  {
   "cell_type": "markdown",
   "metadata": {},
   "source": [
    "## Exercise 1: Simple Function\n",
    "\n",
    "Create a function to calculate beam self-weight."
   ]
  },
  {
   "cell_type": "code",
   "execution_count": 1,
   "metadata": {},
   "outputs": [
    {
     "name": "stdout",
     "output_type": "stream",
     "text": [
      "Beam self-weight: 3.53 kN\n"
     ]
    }
   ],
   "source": [
    "def calculate_self_weight(length_m: float, mass_per_meter_kg: float) -> float:\n",
    "    \"\"\"\n",
    "    Calculate total self-weight of a beam.\n",
    "    \n",
    "    Args:\n",
    "        length_m: Beam length in meters\n",
    "        mass_per_meter_kg: Linear mass in kg/m\n",
    "    \n",
    "    Returns:\n",
    "        Total weight in kN\n",
    "    \"\"\"\n",
    "    weight_kn = (length_m * mass_per_meter_kg * 9.81) / 1000\n",
    "    return weight_kn\n",
    "\n",
    "# Test\n",
    "beam_weight = calculate_self_weight(8.0, 45.0)\n",
    "print(f\"Beam self-weight: {beam_weight:.2f} kN\")"
   ]
  },
  {
   "cell_type": "markdown",
   "metadata": {},
   "source": [
    "## Exercise 2: Function with Default Parameters\n",
    "\n",
    "Calculate factored load with default load factors."
   ]
  },
  {
   "cell_type": "code",
   "execution_count": 2,
   "metadata": {},
   "outputs": [
    {
     "name": "stdout",
     "output_type": "stream",
     "text": [
      "LRFD: 108.0 kN\n",
      "Custom: 121.0 kN\n"
     ]
    }
   ],
   "source": [
    "def calculate_factored_load(\n",
    "    dead_load: float,\n",
    "    live_load: float,\n",
    "    dead_factor: float = 1.2,\n",
    "    live_factor: float = 1.6\n",
    ") -> float:\n",
    "    \"\"\"\n",
    "    Calculate factored load combination.\n",
    "    \n",
    "    Args:\n",
    "        dead_load: Dead load in kN\n",
    "        live_load: Live load in kN\n",
    "        dead_factor: Load factor for dead load (default 1.2)\n",
    "        live_factor: Load factor for live load (default 1.6)\n",
    "    \n",
    "    Returns:\n",
    "        Factored load in kN\n",
    "    \"\"\"\n",
    "    return dead_load * dead_factor + live_load * live_factor\n",
    "\n",
    "# Test with defaults\n",
    "print(f\"LRFD: {calculate_factored_load(50, 30):.1f} kN\")\n",
    "\n",
    "# Test with custom factors\n",
    "print(f\"Custom: {calculate_factored_load(50, 30, 1.4, 1.7):.1f} kN\")"
   ]
  },
  {
   "cell_type": "markdown",
   "metadata": {},
   "source": [
    "## Exercise 3: Returning Multiple Values\n",
    "\n",
    "Calculate multiple beam properties at once."
   ]
  },
  {
   "cell_type": "code",
   "execution_count": 3,
   "metadata": {},
   "outputs": [
    {
     "name": "stdout",
     "output_type": "stream",
     "text": [
      "Total load: 90.0 kN\n",
      "Max moment: 67.5 kN·m\n",
      "Max shear: 45.0 kN\n"
     ]
    }
   ],
   "source": [
    "def analyze_simple_beam(load_kn_m: float, span_m: float) -> tuple[float, float, float]:\n",
    "    \"\"\"\n",
    "    Analyze a simply supported beam with uniform load.\n",
    "    \n",
    "    Args:\n",
    "        load_kn_m: Uniform load in kN/m\n",
    "        span_m: Span length in meters\n",
    "    \n",
    "    Returns:\n",
    "        Tuple of (total_load_kn, max_moment_kn_m, max_shear_kn)\n",
    "    \"\"\"\n",
    "    total_load = load_kn_m * span_m\n",
    "    max_moment = (load_kn_m * span_m ** 2) / 8\n",
    "    max_shear = total_load / 2\n",
    "    \n",
    "    return total_load, max_moment, max_shear\n",
    "\n",
    "# Unpack results\n",
    "total, moment, shear = analyze_simple_beam(15.0, 6.0)\n",
    "\n",
    "print(f\"Total load: {total:.1f} kN\")\n",
    "print(f\"Max moment: {moment:.1f} kN·m\")\n",
    "print(f\"Max shear: {shear:.1f} kN\")"
   ]
  },
  {
   "cell_type": "markdown",
   "metadata": {},
   "source": [
    "## Exercise 4: Function with Conditional Logic\n",
    "\n",
    "Classify concrete strength grade."
   ]
  },
  {
   "cell_type": "code",
   "execution_count": 4,
   "metadata": {},
   "outputs": [
    {
     "name": "stdout",
     "output_type": "stream",
     "text": [
      "15 MPa → Low strength\n",
      "25 MPa → Normal strength\n",
      "40 MPa → High strength\n",
      "65 MPa → Ultra-high strength\n"
     ]
    }
   ],
   "source": [
    "def classify_concrete_strength(fc_mpa: float) -> str:\n",
    "    \"\"\"\n",
    "    Classify concrete by compressive strength.\n",
    "    \n",
    "    Args:\n",
    "        fc_mpa: Compressive strength in MPa\n",
    "    \n",
    "    Returns:\n",
    "        Strength classification\n",
    "    \"\"\"\n",
    "    if fc_mpa < 20:\n",
    "        return \"Low strength\"\n",
    "    elif fc_mpa < 40:\n",
    "        return \"Normal strength\"\n",
    "    elif fc_mpa < 60:\n",
    "        return \"High strength\"\n",
    "    else:\n",
    "        return \"Ultra-high strength\"\n",
    "\n",
    "# Test\n",
    "strengths = [15, 25, 40, 65]\n",
    "for strength in strengths:\n",
    "    classification = classify_concrete_strength(strength)\n",
    "    print(f\"{strength} MPa → {classification}\")"
   ]
  },
  {
   "cell_type": "markdown",
   "metadata": {},
   "source": [
    "## Exercise 5: Function Processing a List\n",
    "\n",
    "Find the beam with maximum utilization ratio."
   ]
  },
  {
   "cell_type": "code",
   "execution_count": 5,
   "metadata": {},
   "outputs": [
    {
     "name": "stdout",
     "output_type": "stream",
     "text": [
      "Critical beam: B2\n",
      "Utilization: 90.00%\n"
     ]
    }
   ],
   "source": [
    "def find_critical_beam(beams: list[dict]) -> dict:\n",
    "    \"\"\"\n",
    "    Find beam with highest utilization ratio.\n",
    "    \n",
    "    Args:\n",
    "        beams: List of beam dictionaries with 'demand' and 'capacity'\n",
    "    \n",
    "    Returns:\n",
    "        Beam dictionary with highest utilization\n",
    "    \"\"\"\n",
    "    def get_utilization(beam: dict) -> float:\n",
    "        return beam['demand'] / beam['capacity']\n",
    "    \n",
    "    return max(beams, key=get_utilization)\n",
    "\n",
    "# Test data\n",
    "project_beams = [\n",
    "    {\"id\": \"B1\", \"demand\": 45, \"capacity\": 60},\n",
    "    {\"id\": \"B2\", \"demand\": 72, \"capacity\": 80},\n",
    "    {\"id\": \"B3\", \"demand\": 38, \"capacity\": 50},\n",
    "]\n",
    "\n",
    "critical = find_critical_beam(project_beams)\n",
    "utilization = critical['demand'] / critical['capacity']\n",
    "\n",
    "print(f\"Critical beam: {critical['id']}\")\n",
    "print(f\"Utilization: {utilization:.2%}\")"
   ]
  },
  {
   "cell_type": "markdown",
   "metadata": {},
   "source": [
    "## Exercise 6: Lambda Functions\n",
    "\n",
    "Use lambda for quick transformations."
   ]
  },
  {
   "cell_type": "code",
   "execution_count": 6,
   "metadata": {},
   "outputs": [
    {
     "name": "stdout",
     "output_type": "stream",
     "text": [
      "Loads in kN: [45, 60, 38, 72, 55]\n",
      "Loads in tons: ['4.59', '6.12', '3.87', '7.34', '5.61']\n",
      "Loads exceeding 50 kN: [60, 72, 55]\n"
     ]
    }
   ],
   "source": [
    "# Convert list of loads from kN to tons\n",
    "loads_kn = [45, 60, 38, 72, 55]\n",
    "loads_tons = list(map(lambda x: x / 9.81, loads_kn))\n",
    "\n",
    "print(\"Loads in kN:\", loads_kn)\n",
    "print(\"Loads in tons:\", [f\"{t:.2f}\" for t in loads_tons])\n",
    "\n",
    "# Filter beams exceeding capacity\n",
    "capacity = 50\n",
    "overloaded = list(filter(lambda x: x > capacity, loads_kn))\n",
    "print(f\"Loads exceeding {capacity} kN:\", overloaded)"
   ]
  },
  {
   "cell_type": "markdown",
   "metadata": {},
   "source": [
    "## Challenge: Modular Program\n",
    "\n",
    "Build a complete beam analysis utility using multiple functions."
   ]
  },
  {
   "cell_type": "code",
   "execution_count": 7,
   "metadata": {},
   "outputs": [
    {
     "name": "stdout",
     "output_type": "stream",
     "text": [
      "BEAM ANALYSIS RESULT\n",
      "========================================\n",
      "Section modulus: 5,333,333 mm³\n",
      "Moment capacity: 133.3 kN·m\n",
      "Applied moment:  120.0 kN·m\n",
      "Utilization:     90.0%\n",
      "Status:          ✓ ADEQUATE\n"
     ]
    }
   ],
   "source": [
    "def calculate_section_modulus(width_mm: float, depth_mm: float) -> float:\n",
    "    \"\"\"Calculate section modulus for rectangular section.\"\"\"\n",
    "    return (width_mm * depth_mm ** 2) / 6\n",
    "\n",
    "def calculate_moment_capacity(\n",
    "    section_modulus_mm3: float,\n",
    "    allowable_stress_mpa: float\n",
    ") -> float:\n",
    "    \"\"\"Calculate moment capacity.\"\"\"\n",
    "    return (section_modulus_mm3 * allowable_stress_mpa) / 1e6  # Convert to kN·m\n",
    "\n",
    "def check_beam_adequacy(\n",
    "    width_mm: float,\n",
    "    depth_mm: float,\n",
    "    applied_moment_kn_m: float,\n",
    "    allowable_stress_mpa: float = 25\n",
    ") -> dict:\n",
    "    \"\"\"\n",
    "    Complete beam adequacy check.\n",
    "    \n",
    "    Returns:\n",
    "        Dictionary with analysis results\n",
    "    \"\"\"\n",
    "    section_modulus = calculate_section_modulus(width_mm, depth_mm)\n",
    "    capacity = calculate_moment_capacity(section_modulus, allowable_stress_mpa)\n",
    "    utilization = applied_moment_kn_m / capacity\n",
    "    adequate = utilization <= 1.0\n",
    "    \n",
    "    return {\n",
    "        \"section_modulus_mm3\": section_modulus,\n",
    "        \"capacity_kn_m\": capacity,\n",
    "        \"demand_kn_m\": applied_moment_kn_m,\n",
    "        \"utilization\": utilization,\n",
    "        \"adequate\": adequate\n",
    "    }\n",
    "\n",
    "# Run analysis\n",
    "result = check_beam_adequacy(\n",
    "    width_mm=200,\n",
    "    depth_mm=400,\n",
    "    applied_moment_kn_m=120\n",
    ")\n",
    "\n",
    "print(\"BEAM ANALYSIS RESULT\")\n",
    "print(\"=\" * 40)\n",
    "print(f\"Section modulus: {result['section_modulus_mm3']:,.0f} mm³\")\n",
    "print(f\"Moment capacity: {result['capacity_kn_m']:.1f} kN·m\")\n",
    "print(f\"Applied moment:  {result['demand_kn_m']:.1f} kN·m\")\n",
    "print(f\"Utilization:     {result['utilization']:.1%}\")\n",
    "print(f\"Status:          {'✓ ADEQUATE' if result['adequate'] else '✗ INADEQUATE'}\")"
   ]
  },
  {
   "cell_type": "markdown",
   "metadata": {},
   "source": [
    "## Key Takeaways\n",
    "\n",
    "- Functions package logic into reusable units\n",
    "- Docstrings and type hints improve readability\n",
    "- Default parameters provide flexibility\n",
    "- Return tuples for multiple values\n",
    "- Break complex calculations into smaller functions\n",
    "- Lambda functions work well for simple transformations"
   ]
  }
 ],
 "metadata": {
  "kernelspec": {
   "display_name": ".venv (3.12.3)",
   "language": "python",
   "name": "python3"
  },
  "language_info": {
   "codemirror_mode": {
    "name": "ipython",
    "version": 3
   },
   "file_extension": ".py",
   "mimetype": "text/x-python",
   "name": "python",
   "nbconvert_exporter": "python",
   "pygments_lexer": "ipython3",
   "version": "3.12.3"
  }
 },
 "nbformat": 4,
 "nbformat_minor": 4
}
